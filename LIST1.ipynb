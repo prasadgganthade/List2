{
 "cells": [
  {
   "cell_type": "markdown",
   "id": "afce18d8",
   "metadata": {},
   "source": [
    "## 1. Python list of strings"
   ]
  },
  {
   "cell_type": "code",
   "execution_count": 1,
   "id": "df3acc5a",
   "metadata": {},
   "outputs": [
    {
     "name": "stdout",
     "output_type": "stream",
     "text": [
      "['Rice', 'Wheat', 'Barley', 'Chana']\n"
     ]
    }
   ],
   "source": [
    "grocery_list = ['Rice','Wheat','Barley','Chana']\n",
    "print(grocery_list)"
   ]
  },
  {
   "cell_type": "markdown",
   "id": "de51fc01",
   "metadata": {},
   "source": [
    "## 2. Python list of numbers"
   ]
  },
  {
   "cell_type": "code",
   "execution_count": 2,
   "id": "ec9d096b",
   "metadata": {},
   "outputs": [
    {
     "name": "stdout",
     "output_type": "stream",
     "text": [
      "[1, 2, 3, 4, 5, 6, 7, 8, 9, 10]\n"
     ]
    }
   ],
   "source": [
    "numbers = [1,2,3,4,5,6,7,8,9,10]\n",
    "print(numbers)"
   ]
  },
  {
   "cell_type": "markdown",
   "id": "dfea72f7",
   "metadata": {},
   "source": [
    "## 3. Python list with duplicate values"
   ]
  },
  {
   "cell_type": "code",
   "execution_count": 3,
   "id": "871e3372",
   "metadata": {},
   "outputs": [
    {
     "name": "stdout",
     "output_type": "stream",
     "text": [
      "[1, 2, 1, 2, 1, 2, 3, 4, 5, 5, 6]\n"
     ]
    }
   ],
   "source": [
    "mylist = [1,2,1,2,1,2,3,4,5,5,6]\n",
    "print(mylist)"
   ]
  },
  {
   "cell_type": "markdown",
   "id": "e373944d",
   "metadata": {},
   "source": [
    "## 4. Python list that contains different data type values"
   ]
  },
  {
   "cell_type": "code",
   "execution_count": 4,
   "id": "a389b7c6",
   "metadata": {},
   "outputs": [
    {
     "name": "stdout",
     "output_type": "stream",
     "text": [
      "['Prasad', 29, True, 25.36, 'A+', False]\n"
     ]
    }
   ],
   "source": [
    "mylist1 = ['Prasad',29,True,25.36,'A+',False]\n",
    "print(mylist1)"
   ]
  },
  {
   "cell_type": "markdown",
   "id": "f1ec91d4",
   "metadata": {},
   "source": [
    "## 5. Finding the length of a list in Python"
   ]
  },
  {
   "cell_type": "code",
   "execution_count": 5,
   "id": "58683c1a",
   "metadata": {},
   "outputs": [
    {
     "name": "stdout",
     "output_type": "stream",
     "text": [
      "The length of list is : 6\n"
     ]
    }
   ],
   "source": [
    "lang = ['Python','CSharp','HTML','CSS','R','JAVA']\n",
    "print('The length of list is :',len(lang))"
   ]
  },
  {
   "cell_type": "markdown",
   "id": "e97b5a87",
   "metadata": {},
   "source": [
    "## 6. Finding the index of items in a Python list"
   ]
  },
  {
   "cell_type": "code",
   "execution_count": 6,
   "id": "69c1d2ef",
   "metadata": {},
   "outputs": [],
   "source": [
    "fruits = ['Bananna','Apple','Santra','Mosambi','Mango']"
   ]
  },
  {
   "cell_type": "code",
   "execution_count": 7,
   "id": "207144f7",
   "metadata": {},
   "outputs": [
    {
     "name": "stdout",
     "output_type": "stream",
     "text": [
      "The index of banana is : 0\n"
     ]
    }
   ],
   "source": [
    "print('The index of banana is :',fruits.index('Bananna'))"
   ]
  },
  {
   "cell_type": "code",
   "execution_count": 8,
   "id": "d93f0d03",
   "metadata": {},
   "outputs": [
    {
     "name": "stdout",
     "output_type": "stream",
     "text": [
      "The index of santra is : 2\n"
     ]
    }
   ],
   "source": [
    "print('The index of santra is :',fruits.index('Santra'))"
   ]
  },
  {
   "cell_type": "code",
   "execution_count": 9,
   "id": "2450c060",
   "metadata": {},
   "outputs": [],
   "source": [
    "python_list = ['P','Y','T','H','O','N']"
   ]
  },
  {
   "cell_type": "code",
   "execution_count": 10,
   "id": "b0354d64",
   "metadata": {},
   "outputs": [
    {
     "name": "stdout",
     "output_type": "stream",
     "text": [
      "The leeter at index 0 is : P\n"
     ]
    }
   ],
   "source": [
    "print('The leeter at index 0 is :',python_list[0])"
   ]
  },
  {
   "cell_type": "code",
   "execution_count": 11,
   "id": "051df26e",
   "metadata": {},
   "outputs": [
    {
     "name": "stdout",
     "output_type": "stream",
     "text": [
      "The letter at index 3 is : H\n"
     ]
    }
   ],
   "source": [
    "print('The letter at index 3 is :',python_list[3])"
   ]
  },
  {
   "cell_type": "markdown",
   "id": "45a02fd1",
   "metadata": {},
   "source": [
    "## 7. Slicing of lists in Python"
   ]
  },
  {
   "cell_type": "code",
   "execution_count": 12,
   "id": "7bbc3bfe",
   "metadata": {},
   "outputs": [],
   "source": [
    "full_name = ['P','R','A','S','A','D','G','A','N','T','H','A','D','E']"
   ]
  },
  {
   "cell_type": "code",
   "execution_count": 13,
   "id": "5595308c",
   "metadata": {},
   "outputs": [
    {
     "name": "stdout",
     "output_type": "stream",
     "text": [
      "['P', 'R', 'A', 'S', 'A', 'D']\n"
     ]
    }
   ],
   "source": [
    "print(full_name[:6])"
   ]
  },
  {
   "cell_type": "code",
   "execution_count": 14,
   "id": "33261ea6",
   "metadata": {},
   "outputs": [
    {
     "name": "stdout",
     "output_type": "stream",
     "text": [
      "['G', 'A', 'N', 'T', 'H', 'A', 'D', 'E']\n"
     ]
    }
   ],
   "source": [
    "print(full_name[6:])"
   ]
  },
  {
   "cell_type": "markdown",
   "id": "21daa11b",
   "metadata": {},
   "source": [
    "## 8. Adding items to a list using insert() and append() in Python"
   ]
  },
  {
   "cell_type": "code",
   "execution_count": 15,
   "id": "83f686cd",
   "metadata": {},
   "outputs": [
    {
     "data": {
      "text/plain": [
       "['Bananna', 'Apple', 'Santra', 'Mosambi', 'Mango']"
      ]
     },
     "execution_count": 15,
     "metadata": {},
     "output_type": "execute_result"
    }
   ],
   "source": [
    "fruits"
   ]
  },
  {
   "cell_type": "code",
   "execution_count": 16,
   "id": "0e38aad3",
   "metadata": {},
   "outputs": [],
   "source": [
    "fruits.append('Watermelon')"
   ]
  },
  {
   "cell_type": "code",
   "execution_count": 17,
   "id": "d1880a25",
   "metadata": {},
   "outputs": [
    {
     "data": {
      "text/plain": [
       "['Bananna', 'Apple', 'Santra', 'Mosambi', 'Mango', 'Watermelon']"
      ]
     },
     "execution_count": 17,
     "metadata": {},
     "output_type": "execute_result"
    }
   ],
   "source": [
    "fruits"
   ]
  },
  {
   "cell_type": "code",
   "execution_count": 18,
   "id": "d763760a",
   "metadata": {},
   "outputs": [],
   "source": [
    "fruits.insert(2,'Kiwi')"
   ]
  },
  {
   "cell_type": "code",
   "execution_count": 19,
   "id": "4d9dd56b",
   "metadata": {},
   "outputs": [
    {
     "data": {
      "text/plain": [
       "['Bananna', 'Apple', 'Kiwi', 'Santra', 'Mosambi', 'Mango', 'Watermelon']"
      ]
     },
     "execution_count": 19,
     "metadata": {},
     "output_type": "execute_result"
    }
   ],
   "source": [
    "fruits"
   ]
  },
  {
   "cell_type": "markdown",
   "id": "72780b07",
   "metadata": {},
   "source": [
    "## 9. Merging two lists using extend method in Python"
   ]
  },
  {
   "cell_type": "code",
   "execution_count": 21,
   "id": "d653568c",
   "metadata": {},
   "outputs": [],
   "source": [
    "list1 = ['Apple','Orange','Mango']\n",
    "list2 = ['Kiwi','Santra','Watermelon']"
   ]
  },
  {
   "cell_type": "code",
   "execution_count": 22,
   "id": "20a1dce7",
   "metadata": {},
   "outputs": [],
   "source": [
    "list1.extend(list2)"
   ]
  },
  {
   "cell_type": "code",
   "execution_count": 23,
   "id": "676c63cc",
   "metadata": {},
   "outputs": [
    {
     "data": {
      "text/plain": [
       "['Apple', 'Orange', 'Mango', 'Kiwi', 'Santra', 'Watermelon']"
      ]
     },
     "execution_count": 23,
     "metadata": {},
     "output_type": "execute_result"
    }
   ],
   "source": [
    "list1"
   ]
  },
  {
   "cell_type": "markdown",
   "id": "335cccb1",
   "metadata": {},
   "source": [
    "## 10. Removing items from a list using pop() in Python"
   ]
  },
  {
   "cell_type": "code",
   "execution_count": 24,
   "id": "c0f66dac",
   "metadata": {},
   "outputs": [
    {
     "data": {
      "text/plain": [
       "'Watermelon'"
      ]
     },
     "execution_count": 24,
     "metadata": {},
     "output_type": "execute_result"
    }
   ],
   "source": [
    "list1.pop()"
   ]
  },
  {
   "cell_type": "code",
   "execution_count": 25,
   "id": "e25a63f8",
   "metadata": {},
   "outputs": [
    {
     "data": {
      "text/plain": [
       "['Apple', 'Orange', 'Mango', 'Kiwi', 'Santra']"
      ]
     },
     "execution_count": 25,
     "metadata": {},
     "output_type": "execute_result"
    }
   ],
   "source": [
    "list1"
   ]
  },
  {
   "cell_type": "code",
   "execution_count": 27,
   "id": "4cd83cdd",
   "metadata": {},
   "outputs": [
    {
     "data": {
      "text/plain": [
       "'Mango'"
      ]
     },
     "execution_count": 27,
     "metadata": {},
     "output_type": "execute_result"
    }
   ],
   "source": [
    "list1.pop(2)"
   ]
  },
  {
   "cell_type": "code",
   "execution_count": 28,
   "id": "563c68bf",
   "metadata": {},
   "outputs": [
    {
     "data": {
      "text/plain": [
       "['Apple', 'Orange', 'Kiwi', 'Santra']"
      ]
     },
     "execution_count": 28,
     "metadata": {},
     "output_type": "execute_result"
    }
   ],
   "source": [
    "list1"
   ]
  },
  {
   "cell_type": "markdown",
   "id": "f27a7c93",
   "metadata": {},
   "source": [
    "## 11. Removing items from a list using remove() in Python"
   ]
  },
  {
   "cell_type": "code",
   "execution_count": 29,
   "id": "894c74bf",
   "metadata": {},
   "outputs": [
    {
     "data": {
      "text/plain": [
       "['Apple', 'Orange', 'Kiwi', 'Santra']"
      ]
     },
     "execution_count": 29,
     "metadata": {},
     "output_type": "execute_result"
    }
   ],
   "source": [
    "list1"
   ]
  },
  {
   "cell_type": "code",
   "execution_count": 30,
   "id": "4491f2ec",
   "metadata": {},
   "outputs": [],
   "source": [
    "list1.remove('Orange')"
   ]
  },
  {
   "cell_type": "code",
   "execution_count": 31,
   "id": "2ce659a7",
   "metadata": {},
   "outputs": [
    {
     "data": {
      "text/plain": [
       "['Apple', 'Kiwi', 'Santra']"
      ]
     },
     "execution_count": 31,
     "metadata": {},
     "output_type": "execute_result"
    }
   ],
   "source": [
    "list1"
   ]
  },
  {
   "cell_type": "markdown",
   "id": "9e315e9d",
   "metadata": {},
   "source": [
    "## 12. Remove all the elements from a list in Python"
   ]
  },
  {
   "cell_type": "code",
   "execution_count": 32,
   "id": "578e9adb",
   "metadata": {},
   "outputs": [],
   "source": [
    "dryfruits = ['Cashew','Nuts','Pista','Badam','Choconuts']"
   ]
  },
  {
   "cell_type": "code",
   "execution_count": 34,
   "id": "65c85bd5",
   "metadata": {},
   "outputs": [],
   "source": [
    "dryfruits.remove('Nuts')"
   ]
  },
  {
   "cell_type": "code",
   "execution_count": 35,
   "id": "a5fcee58",
   "metadata": {},
   "outputs": [
    {
     "data": {
      "text/plain": [
       "['Cashew', 'Pista', 'Badam', 'Choconuts']"
      ]
     },
     "execution_count": 35,
     "metadata": {},
     "output_type": "execute_result"
    }
   ],
   "source": [
    "dryfruits"
   ]
  },
  {
   "cell_type": "code",
   "execution_count": 36,
   "id": "f74034ee",
   "metadata": {},
   "outputs": [],
   "source": [
    "dryfruits.clear()"
   ]
  },
  {
   "cell_type": "code",
   "execution_count": 37,
   "id": "70166637",
   "metadata": {},
   "outputs": [
    {
     "data": {
      "text/plain": [
       "[]"
      ]
     },
     "execution_count": 37,
     "metadata": {},
     "output_type": "execute_result"
    }
   ],
   "source": [
    "dryfruits"
   ]
  },
  {
   "cell_type": "markdown",
   "id": "6e04b29f",
   "metadata": {},
   "source": [
    "## 13. Creating a copy of a list in Python"
   ]
  },
  {
   "cell_type": "code",
   "execution_count": 39,
   "id": "5ea5759b",
   "metadata": {},
   "outputs": [],
   "source": [
    "dryfruit = ['Cashew','Nuts','Pista','Badam','Choconuts']"
   ]
  },
  {
   "cell_type": "code",
   "execution_count": 40,
   "id": "c592ccc0",
   "metadata": {},
   "outputs": [],
   "source": [
    "new_dry = dryfruit.copy()"
   ]
  },
  {
   "cell_type": "code",
   "execution_count": 41,
   "id": "89781b59",
   "metadata": {},
   "outputs": [
    {
     "data": {
      "text/plain": [
       "['Cashew', 'Nuts', 'Pista', 'Badam', 'Choconuts']"
      ]
     },
     "execution_count": 41,
     "metadata": {},
     "output_type": "execute_result"
    }
   ],
   "source": [
    "new_dry"
   ]
  },
  {
   "cell_type": "markdown",
   "id": "e32b25c2",
   "metadata": {},
   "source": [
    "## 14. Finding the number of times an item is present in a list"
   ]
  },
  {
   "cell_type": "code",
   "execution_count": 42,
   "id": "0a7890b8",
   "metadata": {},
   "outputs": [],
   "source": [
    "numbers = [1,2,2,3,3,4,4,4,4,5,5,6]"
   ]
  },
  {
   "cell_type": "code",
   "execution_count": 43,
   "id": "cf3426e2",
   "metadata": {},
   "outputs": [
    {
     "data": {
      "text/plain": [
       "[1, 2, 2, 3, 3, 4, 4, 4, 4, 5, 5, 6]"
      ]
     },
     "execution_count": 43,
     "metadata": {},
     "output_type": "execute_result"
    }
   ],
   "source": [
    "numbers"
   ]
  },
  {
   "cell_type": "code",
   "execution_count": 44,
   "id": "ced35c49",
   "metadata": {},
   "outputs": [
    {
     "data": {
      "text/plain": [
       "4"
      ]
     },
     "execution_count": 44,
     "metadata": {},
     "output_type": "execute_result"
    }
   ],
   "source": [
    "numbers.count(4)"
   ]
  },
  {
   "cell_type": "code",
   "execution_count": 45,
   "id": "ef038370",
   "metadata": {},
   "outputs": [
    {
     "data": {
      "text/plain": [
       "2"
      ]
     },
     "execution_count": 45,
     "metadata": {},
     "output_type": "execute_result"
    }
   ],
   "source": [
    "numbers.count(2)"
   ]
  },
  {
   "cell_type": "markdown",
   "id": "c50284a3",
   "metadata": {},
   "source": [
    "## 15. Reversing a list in Python"
   ]
  },
  {
   "cell_type": "code",
   "execution_count": 46,
   "id": "b4c6f4dc",
   "metadata": {},
   "outputs": [
    {
     "data": {
      "text/plain": [
       "[1, 2, 2, 3, 3, 4, 4, 4, 4, 5, 5, 6]"
      ]
     },
     "execution_count": 46,
     "metadata": {},
     "output_type": "execute_result"
    }
   ],
   "source": [
    "numbers"
   ]
  },
  {
   "cell_type": "code",
   "execution_count": 47,
   "id": "078377db",
   "metadata": {},
   "outputs": [],
   "source": [
    "numbers.reverse()"
   ]
  },
  {
   "cell_type": "code",
   "execution_count": 48,
   "id": "dde34fc3",
   "metadata": {},
   "outputs": [
    {
     "data": {
      "text/plain": [
       "[6, 5, 5, 4, 4, 4, 4, 3, 3, 2, 2, 1]"
      ]
     },
     "execution_count": 48,
     "metadata": {},
     "output_type": "execute_result"
    }
   ],
   "source": [
    "numbers"
   ]
  },
  {
   "cell_type": "markdown",
   "id": "c99f5bd5",
   "metadata": {},
   "source": [
    "## 16. Sorting a list in Python"
   ]
  },
  {
   "cell_type": "code",
   "execution_count": 49,
   "id": "1fbbded1",
   "metadata": {},
   "outputs": [],
   "source": [
    "box = ['Pensil','Pen','Rubber','Sharpner','Inkpen']"
   ]
  },
  {
   "cell_type": "code",
   "execution_count": 51,
   "id": "ceb45c17",
   "metadata": {},
   "outputs": [],
   "source": [
    "box.sort()"
   ]
  },
  {
   "cell_type": "code",
   "execution_count": 52,
   "id": "abb6a8b1",
   "metadata": {},
   "outputs": [
    {
     "name": "stdout",
     "output_type": "stream",
     "text": [
      "The after sorrt\n"
     ]
    },
    {
     "data": {
      "text/plain": [
       "['Inkpen', 'Pen', 'Pensil', 'Rubber', 'Sharpner']"
      ]
     },
     "execution_count": 52,
     "metadata": {},
     "output_type": "execute_result"
    }
   ],
   "source": [
    "print('The after sorrt')\n",
    "box"
   ]
  },
  {
   "cell_type": "markdown",
   "id": "0b9e84bf",
   "metadata": {},
   "source": [
    "## 17. Deleting items in a list using del keyword"
   ]
  },
  {
   "cell_type": "code",
   "execution_count": 53,
   "id": "ab54d561",
   "metadata": {},
   "outputs": [],
   "source": [
    "colors = ['Red','Black','Blue','Orange','Yellow']"
   ]
  },
  {
   "cell_type": "code",
   "execution_count": 54,
   "id": "2fa699b6",
   "metadata": {},
   "outputs": [],
   "source": [
    "del colors[2]"
   ]
  },
  {
   "cell_type": "code",
   "execution_count": 55,
   "id": "1da62afb",
   "metadata": {},
   "outputs": [
    {
     "data": {
      "text/plain": [
       "['Red', 'Black', 'Orange', 'Yellow']"
      ]
     },
     "execution_count": 55,
     "metadata": {},
     "output_type": "execute_result"
    }
   ],
   "source": [
    "colors"
   ]
  },
  {
   "cell_type": "code",
   "execution_count": 57,
   "id": "66a259cd",
   "metadata": {},
   "outputs": [],
   "source": [
    "del colors[3]"
   ]
  },
  {
   "cell_type": "code",
   "execution_count": 58,
   "id": "cefdb5c6",
   "metadata": {},
   "outputs": [
    {
     "data": {
      "text/plain": [
       "['Red', 'Black', 'Orange']"
      ]
     },
     "execution_count": 58,
     "metadata": {},
     "output_type": "execute_result"
    }
   ],
   "source": [
    "colors"
   ]
  },
  {
   "cell_type": "markdown",
   "id": "fa491230",
   "metadata": {},
   "source": [
    "## 18. Nested list in Python"
   ]
  },
  {
   "cell_type": "code",
   "execution_count": 59,
   "id": "1f3380eb",
   "metadata": {},
   "outputs": [],
   "source": [
    "nestlist = ['Apple',['Ball',1,12.5,'&^%'],[1,2,3,4]]"
   ]
  },
  {
   "cell_type": "code",
   "execution_count": 60,
   "id": "05af9acf",
   "metadata": {},
   "outputs": [
    {
     "data": {
      "text/plain": [
       "'Apple'"
      ]
     },
     "execution_count": 60,
     "metadata": {},
     "output_type": "execute_result"
    }
   ],
   "source": [
    "nestlist[0]"
   ]
  },
  {
   "cell_type": "code",
   "execution_count": 61,
   "id": "07a8c919",
   "metadata": {},
   "outputs": [
    {
     "data": {
      "text/plain": [
       "['Ball', 1, 12.5, '&^%']"
      ]
     },
     "execution_count": 61,
     "metadata": {},
     "output_type": "execute_result"
    }
   ],
   "source": [
    "nestlist[1]"
   ]
  },
  {
   "cell_type": "code",
   "execution_count": 62,
   "id": "600f53b3",
   "metadata": {},
   "outputs": [
    {
     "data": {
      "text/plain": [
       "[1, 2, 3, 4]"
      ]
     },
     "execution_count": 62,
     "metadata": {},
     "output_type": "execute_result"
    }
   ],
   "source": [
    "nestlist[2]"
   ]
  },
  {
   "cell_type": "markdown",
   "id": "e37c1ba8",
   "metadata": {},
   "source": [
    "## 20. Checking whether an item exists in a list or not"
   ]
  },
  {
   "cell_type": "code",
   "execution_count": 63,
   "id": "4b24c205",
   "metadata": {},
   "outputs": [],
   "source": [
    "os = ['mac','linux','windows']"
   ]
  },
  {
   "cell_type": "code",
   "execution_count": 64,
   "id": "796b26ef",
   "metadata": {},
   "outputs": [
    {
     "name": "stdout",
     "output_type": "stream",
     "text": [
      "Yes\n"
     ]
    }
   ],
   "source": [
    "if 'mac' in os:\n",
    "    print('Yes')"
   ]
  },
  {
   "cell_type": "code",
   "execution_count": 65,
   "id": "95642107",
   "metadata": {},
   "outputs": [
    {
     "name": "stdout",
     "output_type": "stream",
     "text": [
      "NO\n"
     ]
    }
   ],
   "source": [
    "if 'Linux' in os:\n",
    "    print('Yes')\n",
    "else:\n",
    "    print('NO')"
   ]
  },
  {
   "cell_type": "code",
   "execution_count": 66,
   "id": "5f5ba2fd",
   "metadata": {},
   "outputs": [
    {
     "name": "stdout",
     "output_type": "stream",
     "text": [
      "No\n"
     ]
    }
   ],
   "source": [
    "if 'windows' not in os:\n",
    "    print('Yes')\n",
    "else:\n",
    "    print('No')"
   ]
  },
  {
   "cell_type": "markdown",
   "id": "0f69a5cd",
   "metadata": {},
   "source": [
    "## 21. Concatenating lists in Python"
   ]
  },
  {
   "cell_type": "code",
   "execution_count": 67,
   "id": "510088a6",
   "metadata": {},
   "outputs": [],
   "source": [
    "list_1 = ['Amazon','Flipkart','Google']\n",
    "list_2 = ['Dmart','ONDC','Nestle']\n",
    "\n",
    "new_list = list_1 + list_2"
   ]
  },
  {
   "cell_type": "code",
   "execution_count": 68,
   "id": "04bb6557",
   "metadata": {},
   "outputs": [
    {
     "data": {
      "text/plain": [
       "['Amazon', 'Flipkart', 'Google', 'Dmart', 'ONDC', 'Nestle']"
      ]
     },
     "execution_count": 68,
     "metadata": {},
     "output_type": "execute_result"
    }
   ],
   "source": [
    "new_list"
   ]
  },
  {
   "cell_type": "markdown",
   "id": "d89cdb03",
   "metadata": {},
   "source": [
    "## 22. Repeating a list in Python"
   ]
  },
  {
   "cell_type": "code",
   "execution_count": 69,
   "id": "8d63896d",
   "metadata": {},
   "outputs": [],
   "source": [
    "repeat_list = list_1*3"
   ]
  },
  {
   "cell_type": "code",
   "execution_count": 70,
   "id": "1d2f8abb",
   "metadata": {},
   "outputs": [
    {
     "data": {
      "text/plain": [
       "['Amazon',\n",
       " 'Flipkart',\n",
       " 'Google',\n",
       " 'Amazon',\n",
       " 'Flipkart',\n",
       " 'Google',\n",
       " 'Amazon',\n",
       " 'Flipkart',\n",
       " 'Google']"
      ]
     },
     "execution_count": 70,
     "metadata": {},
     "output_type": "execute_result"
    }
   ],
   "source": [
    "repeat_list"
   ]
  },
  {
   "cell_type": "markdown",
   "id": "12cfc5c2",
   "metadata": {},
   "source": [
    "## 23. Python list of numbers of the power of 2"
   ]
  },
  {
   "cell_type": "code",
   "execution_count": 71,
   "id": "e85756c7",
   "metadata": {},
   "outputs": [],
   "source": [
    "mylist = [2**x for x in range(5)]"
   ]
  },
  {
   "cell_type": "code",
   "execution_count": 74,
   "id": "a7065318",
   "metadata": {},
   "outputs": [
    {
     "data": {
      "text/plain": [
       "[1, 2, 4, 8, 16]"
      ]
     },
     "execution_count": 74,
     "metadata": {},
     "output_type": "execute_result"
    }
   ],
   "source": [
    "mylist"
   ]
  },
  {
   "cell_type": "code",
   "execution_count": null,
   "id": "5d54cd82",
   "metadata": {},
   "outputs": [],
   "source": []
  }
 ],
 "metadata": {
  "kernelspec": {
   "display_name": "Python 3 (ipykernel)",
   "language": "python",
   "name": "python3"
  },
  "language_info": {
   "codemirror_mode": {
    "name": "ipython",
    "version": 3
   },
   "file_extension": ".py",
   "mimetype": "text/x-python",
   "name": "python",
   "nbconvert_exporter": "python",
   "pygments_lexer": "ipython3",
   "version": "3.9.13"
  }
 },
 "nbformat": 4,
 "nbformat_minor": 5
}
