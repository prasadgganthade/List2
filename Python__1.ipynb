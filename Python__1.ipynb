{
 "cells": [
  {
   "cell_type": "markdown",
   "id": "7193f2af",
   "metadata": {},
   "source": [
    "## Q1. Convert a given string to int using a single line of code."
   ]
  },
  {
   "cell_type": "code",
   "execution_count": 1,
   "id": "974f5dbc",
   "metadata": {},
   "outputs": [],
   "source": [
    "a = '4'"
   ]
  },
  {
   "cell_type": "code",
   "execution_count": 2,
   "id": "3c9787b4",
   "metadata": {},
   "outputs": [
    {
     "name": "stdout",
     "output_type": "stream",
     "text": [
      "4\n"
     ]
    }
   ],
   "source": [
    "print(int(a))"
   ]
  },
  {
   "cell_type": "markdown",
   "id": "a7f4a050",
   "metadata": {},
   "source": [
    "## Q2. Write a code snippet to convert a string to a list."
   ]
  },
  {
   "cell_type": "code",
   "execution_count": 3,
   "id": "619d8a0f",
   "metadata": {},
   "outputs": [],
   "source": [
    "name = 'Prasad Ganthade'"
   ]
  },
  {
   "cell_type": "code",
   "execution_count": 4,
   "id": "767211f0",
   "metadata": {},
   "outputs": [
    {
     "name": "stdout",
     "output_type": "stream",
     "text": [
      "['Prasad', 'Ganthade']\n"
     ]
    }
   ],
   "source": [
    "print(name.split())"
   ]
  },
  {
   "cell_type": "markdown",
   "id": "020ca7b1",
   "metadata": {},
   "source": [
    "## Q3. Write a code snippet to reverse a string."
   ]
  },
  {
   "cell_type": "code",
   "execution_count": 7,
   "id": "67d86b6f",
   "metadata": {},
   "outputs": [],
   "source": [
    "str1 = 'Hello world'\n",
    "str2 = \"\""
   ]
  },
  {
   "cell_type": "code",
   "execution_count": 8,
   "id": "add0ff9d",
   "metadata": {},
   "outputs": [
    {
     "name": "stdout",
     "output_type": "stream",
     "text": [
      "Oriinal string is : Hello world\n",
      "Reverse string : dlrow olleH\n"
     ]
    }
   ],
   "source": [
    "for i in str1:\n",
    "    str2 = i + str2\n",
    "print('Oriinal string is :',str1)\n",
    "print('Reverse string :',str2)"
   ]
  },
  {
   "cell_type": "markdown",
   "id": "5dd68eea",
   "metadata": {},
   "source": [
    "## Q4. Write a code snippet to sort a list in Python."
   ]
  },
  {
   "cell_type": "code",
   "execution_count": 9,
   "id": "1ec1ace4",
   "metadata": {},
   "outputs": [],
   "source": [
    "list1 = [5,4,3,2,1]"
   ]
  },
  {
   "cell_type": "code",
   "execution_count": 11,
   "id": "2972b8bd",
   "metadata": {},
   "outputs": [],
   "source": [
    "list1.sort()"
   ]
  },
  {
   "cell_type": "code",
   "execution_count": 12,
   "id": "d96c9467",
   "metadata": {},
   "outputs": [
    {
     "data": {
      "text/plain": [
       "[1, 2, 3, 4, 5]"
      ]
     },
     "execution_count": 12,
     "metadata": {},
     "output_type": "execute_result"
    }
   ],
   "source": [
    "list1"
   ]
  },
  {
   "cell_type": "markdown",
   "id": "ff037d25",
   "metadata": {},
   "source": [
    "## Q7. How to access an element of a list?"
   ]
  },
  {
   "cell_type": "code",
   "execution_count": 13,
   "id": "fc039a33",
   "metadata": {},
   "outputs": [
    {
     "data": {
      "text/plain": [
       "[1, 2, 3, 4, 5]"
      ]
     },
     "execution_count": 13,
     "metadata": {},
     "output_type": "execute_result"
    }
   ],
   "source": [
    "list1"
   ]
  },
  {
   "cell_type": "code",
   "execution_count": 14,
   "id": "2503e9a0",
   "metadata": {},
   "outputs": [
    {
     "name": "stdout",
     "output_type": "stream",
     "text": [
      "To access 1st element : 1\n"
     ]
    }
   ],
   "source": [
    "print('To access 1st element :',list1[0])"
   ]
  },
  {
   "cell_type": "code",
   "execution_count": 16,
   "id": "6b59f42f",
   "metadata": {},
   "outputs": [
    {
     "name": "stdout",
     "output_type": "stream",
     "text": [
      "To access 3rd element : 3\n"
     ]
    }
   ],
   "source": [
    "print('To access 3rd element :',list1[2])"
   ]
  },
  {
   "cell_type": "code",
   "execution_count": 17,
   "id": "85352ec5",
   "metadata": {},
   "outputs": [
    {
     "name": "stdout",
     "output_type": "stream",
     "text": [
      "To access last element : 5\n"
     ]
    }
   ],
   "source": [
    "print('To access last element :',list1[-1])"
   ]
  },
  {
   "cell_type": "markdown",
   "id": "f92a3220",
   "metadata": {},
   "source": [
    "## Q8. Discuss different ways of deleting an element from a list."
   ]
  },
  {
   "cell_type": "code",
   "execution_count": 18,
   "id": "8c9f9071",
   "metadata": {},
   "outputs": [],
   "source": [
    "# 1. By using remove function\n",
    "# permanent\n",
    "list2 = [10,20,30,40,50]"
   ]
  },
  {
   "cell_type": "code",
   "execution_count": 20,
   "id": "8980ceea",
   "metadata": {},
   "outputs": [],
   "source": [
    "list2.remove(20)"
   ]
  },
  {
   "cell_type": "code",
   "execution_count": 21,
   "id": "b0d26c14",
   "metadata": {},
   "outputs": [
    {
     "data": {
      "text/plain": [
       "[10, 30, 40, 50]"
      ]
     },
     "execution_count": 21,
     "metadata": {},
     "output_type": "execute_result"
    }
   ],
   "source": [
    "list2"
   ]
  },
  {
   "cell_type": "code",
   "execution_count": 22,
   "id": "8cb0a193",
   "metadata": {},
   "outputs": [
    {
     "data": {
      "text/plain": [
       "50"
      ]
     },
     "execution_count": 22,
     "metadata": {},
     "output_type": "execute_result"
    }
   ],
   "source": [
    "# by using pop function\n",
    "# element is not given then remove last and permanent operation and return element\n",
    "list2.pop()"
   ]
  },
  {
   "cell_type": "code",
   "execution_count": 23,
   "id": "a1b7370f",
   "metadata": {},
   "outputs": [
    {
     "data": {
      "text/plain": [
       "[10, 30, 40]"
      ]
     },
     "execution_count": 23,
     "metadata": {},
     "output_type": "execute_result"
    }
   ],
   "source": [
    "list2"
   ]
  },
  {
   "cell_type": "markdown",
   "id": "3540c286",
   "metadata": {},
   "source": [
    "## Q9. Write a code snippet to delete an entire list."
   ]
  },
  {
   "cell_type": "code",
   "execution_count": 24,
   "id": "faf87fbb",
   "metadata": {},
   "outputs": [
    {
     "data": {
      "text/plain": [
       "[10, 30, 40]"
      ]
     },
     "execution_count": 24,
     "metadata": {},
     "output_type": "execute_result"
    }
   ],
   "source": [
    "list2"
   ]
  },
  {
   "cell_type": "code",
   "execution_count": 25,
   "id": "1c85c96e",
   "metadata": {},
   "outputs": [],
   "source": [
    "list2.clear()"
   ]
  },
  {
   "cell_type": "code",
   "execution_count": 26,
   "id": "374932aa",
   "metadata": {},
   "outputs": [
    {
     "data": {
      "text/plain": [
       "[]"
      ]
     },
     "execution_count": 26,
     "metadata": {},
     "output_type": "execute_result"
    }
   ],
   "source": [
    "list2"
   ]
  },
  {
   "cell_type": "markdown",
   "id": "8d785c63",
   "metadata": {},
   "source": [
    "## Q10. Write a code snippet to reverse an array."
   ]
  },
  {
   "cell_type": "code",
   "execution_count": 27,
   "id": "3b1fae48",
   "metadata": {},
   "outputs": [
    {
     "data": {
      "text/plain": [
       "[1, 2, 3, 4, 5]"
      ]
     },
     "execution_count": 27,
     "metadata": {},
     "output_type": "execute_result"
    }
   ],
   "source": [
    "list1"
   ]
  },
  {
   "cell_type": "code",
   "execution_count": 28,
   "id": "90f61fff",
   "metadata": {},
   "outputs": [
    {
     "data": {
      "text/plain": [
       "[5, 4, 3, 2, 1]"
      ]
     },
     "execution_count": 28,
     "metadata": {},
     "output_type": "execute_result"
    }
   ],
   "source": [
    "list1[::-1]"
   ]
  },
  {
   "cell_type": "markdown",
   "id": "5e67da20",
   "metadata": {},
   "source": [
    "## Q11. Write a code snippet to get an element, delete an element, and update an element in an array."
   ]
  },
  {
   "cell_type": "code",
   "execution_count": 29,
   "id": "a606623b",
   "metadata": {},
   "outputs": [],
   "source": [
    "# to get element\n",
    "list3 = [100,200,300,400,500]"
   ]
  },
  {
   "cell_type": "code",
   "execution_count": 30,
   "id": "68b3ddb8",
   "metadata": {},
   "outputs": [
    {
     "data": {
      "text/plain": [
       "200"
      ]
     },
     "execution_count": 30,
     "metadata": {},
     "output_type": "execute_result"
    }
   ],
   "source": [
    "# 2nd element\n",
    "list3[1]"
   ]
  },
  {
   "cell_type": "code",
   "execution_count": 32,
   "id": "f15b3cb4",
   "metadata": {},
   "outputs": [],
   "source": [
    "# delete 3rd element\n",
    "list3.remove(300)"
   ]
  },
  {
   "cell_type": "code",
   "execution_count": 33,
   "id": "674d2406",
   "metadata": {},
   "outputs": [
    {
     "data": {
      "text/plain": [
       "[100, 200, 400, 500]"
      ]
     },
     "execution_count": 33,
     "metadata": {},
     "output_type": "execute_result"
    }
   ],
   "source": [
    "list3"
   ]
  },
  {
   "cell_type": "code",
   "execution_count": 34,
   "id": "a482dd80",
   "metadata": {},
   "outputs": [],
   "source": [
    "# to update list\n",
    "list3[2] = 10000"
   ]
  },
  {
   "cell_type": "code",
   "execution_count": 35,
   "id": "c009b5d3",
   "metadata": {},
   "outputs": [
    {
     "data": {
      "text/plain": [
       "[100, 200, 10000, 500]"
      ]
     },
     "execution_count": 35,
     "metadata": {},
     "output_type": "execute_result"
    }
   ],
   "source": [
    "list3"
   ]
  },
  {
   "cell_type": "markdown",
   "id": "f9a48bf7",
   "metadata": {},
   "source": [
    "## Q12. Write a code snippet to concatenate lists."
   ]
  },
  {
   "cell_type": "code",
   "execution_count": 37,
   "id": "4b774e09",
   "metadata": {},
   "outputs": [],
   "source": [
    "l1= [\"w\", 'a', 'w',\"b\"]\n",
    "l2 = [\"e\", \" \",'riting','log']"
   ]
  },
  {
   "cell_type": "code",
   "execution_count": 40,
   "id": "f6163966",
   "metadata": {},
   "outputs": [
    {
     "data": {
      "text/plain": [
       "['we', 'a ', 'writing', 'blog']"
      ]
     },
     "execution_count": 40,
     "metadata": {},
     "output_type": "execute_result"
    }
   ],
   "source": [
    "l3 = [x + y for x,y in zip(l1,l2)]\n",
    "l3"
   ]
  },
  {
   "cell_type": "markdown",
   "id": "0a36e667",
   "metadata": {},
   "source": [
    "## Q13. Write a code snippet to generate the square of every element of a list."
   ]
  },
  {
   "cell_type": "code",
   "execution_count": 41,
   "id": "0d6bfd25",
   "metadata": {},
   "outputs": [
    {
     "data": {
      "text/plain": [
       "[100, 200, 10000, 500]"
      ]
     },
     "execution_count": 41,
     "metadata": {},
     "output_type": "execute_result"
    }
   ],
   "source": [
    "list3"
   ]
  },
  {
   "cell_type": "code",
   "execution_count": 42,
   "id": "2ab74a7f",
   "metadata": {},
   "outputs": [],
   "source": [
    "list1 = [10,20,30,40]"
   ]
  },
  {
   "cell_type": "code",
   "execution_count": 44,
   "id": "e7bc5645",
   "metadata": {},
   "outputs": [
    {
     "data": {
      "text/plain": [
       "[100, 400, 900, 1600]"
      ]
     },
     "execution_count": 44,
     "metadata": {},
     "output_type": "execute_result"
    }
   ],
   "source": [
    "sq_list =[]\n",
    "for i in list1:\n",
    "    p = i * i\n",
    "    sq_list.append(p)\n",
    "sq_list"
   ]
  },
  {
   "cell_type": "markdown",
   "id": "f66a4bf9",
   "metadata": {},
   "source": [
    "## Q51. Write a program to check whether a number is prime or not."
   ]
  },
  {
   "cell_type": "code",
   "execution_count": 48,
   "id": "4bca11d3",
   "metadata": {},
   "outputs": [
    {
     "name": "stdout",
     "output_type": "stream",
     "text": [
      "Eter the number : 4\n",
      "Not a prime number\n"
     ]
    }
   ],
   "source": [
    "num = int(input('Eter the number : '))\n",
    "if num < 0:\n",
    "    print('Enter the postive number : ')\n",
    "elif num == 1:\n",
    "    print('Not a prime number')\n",
    "elif num >= 2:\n",
    "    for i in range(2,int(num//2)+1):\n",
    "        if num % i == 0:\n",
    "            print('Not a prime number')\n",
    "            break\n",
    "    else:\n",
    "        print('Given number is prime number')"
   ]
  },
  {
   "cell_type": "markdown",
   "id": "0e9b1393",
   "metadata": {},
   "source": [
    "## Q53. What are the ways to swap the values of two elements?"
   ]
  },
  {
   "cell_type": "code",
   "execution_count": 49,
   "id": "bd7df87b",
   "metadata": {},
   "outputs": [
    {
     "name": "stdout",
     "output_type": "stream",
     "text": [
      "Nubers before swapping : 4 90\n"
     ]
    }
   ],
   "source": [
    "# method 1\n",
    "a = 4\n",
    "b = 90\n",
    "print('Nubers before swapping :',a,b)"
   ]
  },
  {
   "cell_type": "code",
   "execution_count": 50,
   "id": "97fa566d",
   "metadata": {},
   "outputs": [],
   "source": [
    "a,b = b,a"
   ]
  },
  {
   "cell_type": "code",
   "execution_count": 51,
   "id": "4c3717b9",
   "metadata": {},
   "outputs": [
    {
     "name": "stdout",
     "output_type": "stream",
     "text": [
      "Numbers after swapping : 90 4\n"
     ]
    }
   ],
   "source": [
    "print('Numbers after swapping :',a,b)"
   ]
  },
  {
   "cell_type": "code",
   "execution_count": 52,
   "id": "46ca4348",
   "metadata": {},
   "outputs": [
    {
     "data": {
      "text/plain": [
       "'Number before swapping :'"
      ]
     },
     "metadata": {},
     "output_type": "display_data"
    },
    {
     "data": {
      "text/plain": [
       "100"
      ]
     },
     "metadata": {},
     "output_type": "display_data"
    },
    {
     "data": {
      "text/plain": [
       "300"
      ]
     },
     "metadata": {},
     "output_type": "display_data"
    }
   ],
   "source": [
    "# Method -2 \n",
    "c = 100\n",
    "d = 300\n",
    "display('Number before swapping :',c,d)"
   ]
  },
  {
   "cell_type": "code",
   "execution_count": 53,
   "id": "c49e41a3",
   "metadata": {},
   "outputs": [
    {
     "data": {
      "text/plain": [
       "'Numbers after swapping :'"
      ]
     },
     "metadata": {},
     "output_type": "display_data"
    },
    {
     "data": {
      "text/plain": [
       "300"
      ]
     },
     "metadata": {},
     "output_type": "display_data"
    },
    {
     "data": {
      "text/plain": [
       "100"
      ]
     },
     "metadata": {},
     "output_type": "display_data"
    }
   ],
   "source": [
    "temp = c\n",
    "c = d\n",
    "d = temp\n",
    "display('Numbers after swapping :',c,d)"
   ]
  },
  {
   "cell_type": "markdown",
   "id": "3b55a30c",
   "metadata": {},
   "source": [
    "## Q54. Write a program in Python to return the factorial of a given number using recursion."
   ]
  },
  {
   "cell_type": "code",
   "execution_count": 58,
   "id": "393a89bc",
   "metadata": {},
   "outputs": [
    {
     "name": "stdout",
     "output_type": "stream",
     "text": [
      "Factorial of given number is : 120\n"
     ]
    }
   ],
   "source": [
    "def factorial(num):\n",
    "    if num == 1:\n",
    "        return 1\n",
    "    else:\n",
    "        return (num * factorial(num - 1))\n",
    "num = 5\n",
    "\n",
    "if num < 0:\n",
    "    print('enter positive number')\n",
    "elif num == 0:\n",
    "    print('Factorial of 0 is 1')\n",
    "else:\n",
    "    print('Factorial of given number is :',factorial(num))"
   ]
  },
  {
   "cell_type": "markdown",
   "id": "5ccf57b6",
   "metadata": {},
   "source": [
    "## Q56. How do you find the minimum value in a list with a lambda function?"
   ]
  },
  {
   "cell_type": "code",
   "execution_count": 59,
   "id": "a5c59c7f",
   "metadata": {},
   "outputs": [
    {
     "data": {
      "text/plain": [
       "[100, 200, 10000, 500]"
      ]
     },
     "execution_count": 59,
     "metadata": {},
     "output_type": "execute_result"
    }
   ],
   "source": [
    "list3"
   ]
  },
  {
   "cell_type": "code",
   "execution_count": 71,
   "id": "56833431",
   "metadata": {},
   "outputs": [],
   "source": [
    "a = (lambda x,y :x if x < y else y,list3)"
   ]
  },
  {
   "cell_type": "markdown",
   "id": "0a2b1bd5",
   "metadata": {},
   "source": [
    "## Q58. Write a code to select only odd numbers using list comprehension."
   ]
  },
  {
   "cell_type": "code",
   "execution_count": 72,
   "id": "621eff7c",
   "metadata": {},
   "outputs": [
    {
     "data": {
      "text/plain": [
       "[100, 200, 10000, 500]"
      ]
     },
     "execution_count": 72,
     "metadata": {},
     "output_type": "execute_result"
    }
   ],
   "source": [
    "list3"
   ]
  },
  {
   "cell_type": "code",
   "execution_count": 73,
   "id": "da60d54d",
   "metadata": {},
   "outputs": [],
   "source": [
    "list4 = [1,2,3,4,5]"
   ]
  },
  {
   "cell_type": "code",
   "execution_count": 75,
   "id": "43a072d9",
   "metadata": {},
   "outputs": [],
   "source": [
    "odd_list = [i for i in list4 if i%2!=0]"
   ]
  },
  {
   "cell_type": "code",
   "execution_count": 76,
   "id": "d69c0ecb",
   "metadata": {},
   "outputs": [
    {
     "data": {
      "text/plain": [
       "[1, 3, 5]"
      ]
     },
     "execution_count": 76,
     "metadata": {},
     "output_type": "execute_result"
    }
   ],
   "source": [
    "odd_list"
   ]
  },
  {
   "cell_type": "markdown",
   "id": "7e8502d5",
   "metadata": {},
   "source": [
    "## Q60. Write a code to get the minimum value in a dictionary."
   ]
  },
  {
   "cell_type": "code",
   "execution_count": 77,
   "id": "0c2b3e31",
   "metadata": {},
   "outputs": [],
   "source": [
    "students = {\n",
    "  'Theodore': 19,\n",
    "  'Roxanne': 22,\n",
    "  'Mathew': 21,\n",
    "  'Betty': 20\n",
    "}"
   ]
  },
  {
   "cell_type": "code",
   "execution_count": 79,
   "id": "037b5312",
   "metadata": {},
   "outputs": [
    {
     "name": "stdout",
     "output_type": "stream",
     "text": [
      "('Roxanne', 'Theodore')\n"
     ]
    }
   ],
   "source": [
    "def min_values(dict1):\n",
    "    return max(dict1,key=dict1.get), min(dict1,key=dict1.get)\n",
    "print(min_values(students))"
   ]
  },
  {
   "cell_type": "markdown",
   "id": "b292f6c3",
   "metadata": {},
   "source": [
    "## Q61. Write a program to return the mean value of a tuple of tuples."
   ]
  },
  {
   "cell_type": "code",
   "execution_count": 81,
   "id": "a3d912e2",
   "metadata": {},
   "outputs": [
    {
     "name": "stdout",
     "output_type": "stream",
     "text": [
      "Mean value is : [30.5, 34.25, 27.0, 23.25]\n"
     ]
    }
   ],
   "source": [
    "def mean_tuples(num):\n",
    "    result = [sum(x)/len(x) for x in zip(*num)]\n",
    "    return result\n",
    "num = ((10, 10, 10, 12), (30, 45, 56, 45), (81, 80, 39, 32), (1, 2, 3, 4))\n",
    "print('Mean value is :',mean_tuples(num))"
   ]
  },
  {
   "cell_type": "code",
   "execution_count": 82,
   "id": "187bea95",
   "metadata": {},
   "outputs": [
    {
     "data": {
      "text/plain": [
       "30.0"
      ]
     },
     "execution_count": 82,
     "metadata": {},
     "output_type": "execute_result"
    }
   ],
   "source": [
    "tup = (10,20,30,40,50)\n",
    "result= sum(tup)/len(tup)\n",
    "result"
   ]
  },
  {
   "cell_type": "markdown",
   "id": "477ecfa5",
   "metadata": {},
   "source": [
    "## Q69. How can we concatenate two arrays?"
   ]
  },
  {
   "cell_type": "code",
   "execution_count": 83,
   "id": "a12fd9ae",
   "metadata": {},
   "outputs": [],
   "source": [
    "import numpy as np"
   ]
  },
  {
   "cell_type": "code",
   "execution_count": 84,
   "id": "767f60fb",
   "metadata": {},
   "outputs": [],
   "source": [
    "a = np.array([10,20])\n",
    "b = np.array([30,40])"
   ]
  },
  {
   "cell_type": "code",
   "execution_count": 85,
   "id": "25a78a14",
   "metadata": {},
   "outputs": [],
   "source": [
    "c = np.concatenate((a,b))"
   ]
  },
  {
   "cell_type": "code",
   "execution_count": 86,
   "id": "94aecdd5",
   "metadata": {},
   "outputs": [
    {
     "data": {
      "text/plain": [
       "array([10, 20, 30, 40])"
      ]
     },
     "execution_count": 86,
     "metadata": {},
     "output_type": "execute_result"
    }
   ],
   "source": [
    "c"
   ]
  },
  {
   "cell_type": "code",
   "execution_count": null,
   "id": "46616931",
   "metadata": {},
   "outputs": [],
   "source": []
  }
 ],
 "metadata": {
  "kernelspec": {
   "display_name": "Python 3 (ipykernel)",
   "language": "python",
   "name": "python3"
  },
  "language_info": {
   "codemirror_mode": {
    "name": "ipython",
    "version": 3
   },
   "file_extension": ".py",
   "mimetype": "text/x-python",
   "name": "python",
   "nbconvert_exporter": "python",
   "pygments_lexer": "ipython3",
   "version": "3.9.13"
  }
 },
 "nbformat": 4,
 "nbformat_minor": 5
}
