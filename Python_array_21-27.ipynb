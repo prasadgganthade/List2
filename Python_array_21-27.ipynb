{
 "cells": [
  {
   "cell_type": "markdown",
   "id": "c8fcb8fd",
   "metadata": {},
   "source": [
    "## 21. Python program to perform left rotation of array elements by two positions."
   ]
  },
  {
   "cell_type": "code",
   "execution_count": 1,
   "id": "a7431c1a",
   "metadata": {},
   "outputs": [],
   "source": [
    "arr = [1,2,3,4,5]\n",
    "n = 3 # number of times to be rotated"
   ]
  },
  {
   "cell_type": "code",
   "execution_count": 2,
   "id": "4cfc1436",
   "metadata": {},
   "outputs": [
    {
     "name": "stdout",
     "output_type": "stream",
     "text": [
      "Origial array\n",
      "1\n",
      "2\n",
      "3\n",
      "4\n",
      "5\n"
     ]
    }
   ],
   "source": [
    "print('Origial array')\n",
    "for i in range(0,len(arr)):\n",
    "    print(arr[i])"
   ]
  },
  {
   "cell_type": "code",
   "execution_count": 3,
   "id": "8be3e874",
   "metadata": {},
   "outputs": [],
   "source": [
    "# now rotate the array\n",
    "for i in range(0,n):\n",
    "    first = arr[0]\n",
    "    for j in range(0,len(arr)-1):\n",
    "        arr[j] = arr[j+1]\n",
    "    # first element will be added at the end\n",
    "    arr[len(arr)-1] = first"
   ]
  },
  {
   "cell_type": "code",
   "execution_count": 4,
   "id": "cf7ad5fa",
   "metadata": {},
   "outputs": [
    {
     "name": "stdout",
     "output_type": "stream",
     "text": [
      "Array after rotation\n",
      "4\n",
      "5\n",
      "1\n",
      "2\n",
      "3\n"
     ]
    }
   ],
   "source": [
    "print('Array after rotation')\n",
    "for i in range(0,len(arr)):\n",
    "    print(arr[i])"
   ]
  },
  {
   "cell_type": "markdown",
   "id": "695dd9c6",
   "metadata": {},
   "source": [
    "## 22. Python program to perform right rotation in array by 2 positions."
   ]
  },
  {
   "cell_type": "code",
   "execution_count": 7,
   "id": "bb3da4fe",
   "metadata": {},
   "outputs": [],
   "source": [
    "arr = [1,2,3,4,5]\n",
    "n =3  # Number of times to be rotated"
   ]
  },
  {
   "cell_type": "code",
   "execution_count": 8,
   "id": "60c6e24a",
   "metadata": {},
   "outputs": [],
   "source": [
    "# rotate the array\n",
    "for i in range(0,n):\n",
    "    last = arr[len(arr)-1]\n",
    "    for j in range(len(arr)-1,-1,-1):\n",
    "        arr[j] = arr[j-1]\n",
    "    arr[0] = last"
   ]
  },
  {
   "cell_type": "code",
   "execution_count": 9,
   "id": "faaea798",
   "metadata": {},
   "outputs": [
    {
     "name": "stdout",
     "output_type": "stream",
     "text": [
      "Array after rotation\n",
      "3\n",
      "4\n",
      "5\n",
      "1\n",
      "2\n"
     ]
    }
   ],
   "source": [
    "print('Array after rotation')\n",
    "for i in range(0,len(arr)):\n",
    "    print(arr[i])"
   ]
  },
  {
   "cell_type": "markdown",
   "id": "5b6551ae",
   "metadata": {},
   "source": [
    "## 23. Python Program to merge two arrays."
   ]
  },
  {
   "cell_type": "code",
   "execution_count": 10,
   "id": "77491ba7",
   "metadata": {},
   "outputs": [
    {
     "name": "stdout",
     "output_type": "stream",
     "text": [
      "[1, 2, 3, 4, 5, 6, 7, 8, 9, 10]\n"
     ]
    }
   ],
   "source": [
    "a = [1,2,3,4,5]\n",
    "b = [6,7,8,9,10]\n",
    "c = a+b\n",
    "print(c)"
   ]
  },
  {
   "cell_type": "markdown",
   "id": "dcf9ebb8",
   "metadata": {},
   "source": [
    "## 24. Python Program to find highest frequency element in array."
   ]
  },
  {
   "cell_type": "code",
   "execution_count": 11,
   "id": "934dc084",
   "metadata": {},
   "outputs": [],
   "source": [
    "listA = [45, 20, 11, 50, 17, 45, 50,13, 45]"
   ]
  },
  {
   "cell_type": "code",
   "execution_count": 14,
   "id": "cf7bf277",
   "metadata": {},
   "outputs": [
    {
     "name": "stdout",
     "output_type": "stream",
     "text": [
      "Element with high frequency 45\n"
     ]
    }
   ],
   "source": [
    "res = max(set(listA),key=listA.count)\n",
    "print('Element with high frequency',res)"
   ]
  },
  {
   "cell_type": "code",
   "execution_count": null,
   "id": "1664b52e",
   "metadata": {},
   "outputs": [],
   "source": []
  }
 ],
 "metadata": {
  "kernelspec": {
   "display_name": "Python 3 (ipykernel)",
   "language": "python",
   "name": "python3"
  },
  "language_info": {
   "codemirror_mode": {
    "name": "ipython",
    "version": 3
   },
   "file_extension": ".py",
   "mimetype": "text/x-python",
   "name": "python",
   "nbconvert_exporter": "python",
   "pygments_lexer": "ipython3",
   "version": "3.9.13"
  }
 },
 "nbformat": 4,
 "nbformat_minor": 5
}
